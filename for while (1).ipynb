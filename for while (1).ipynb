{
 "cells": [
  {
   "cell_type": "code",
   "execution_count": 1,
   "metadata": {},
   "outputs": [
    {
     "name": "stdout",
     "output_type": "stream",
     "text": [
      "1\n",
      "2\n",
      "3\n",
      "4\n",
      "5\n"
     ]
    }
   ],
   "source": [
    "#while kalo nilainya true, baru masuk kebawah\n",
    "#while kayak if yang diulang-ulang\n",
    "#pake kondisi\n",
    "#ngulang berdasarkan true/false\n",
    "#while kalo true dan uda di proses sampe akhir,\n",
    "#bisa naik keatas dan keulang lg sampe false\n",
    "i = 0\n",
    "while i < 5:\n",
    "    i += 1 #sama kayak i=i+1\n",
    "    print(i)"
   ]
  },
  {
   "cell_type": "code",
   "execution_count": 3,
   "metadata": {},
   "outputs": [
    {
     "name": "stdout",
     "output_type": "stream",
     "text": [
      "Nama\n",
      "Usia\n",
      "Teman\n",
      "Aya\n",
      "21\n",
      "['joy', 'kai']\n"
     ]
    }
   ],
   "source": [
    "#for biasanya pake in\n",
    "#for pengulangan yang variabel yang diulang sudah ditentukan\n",
    "#for manggil elemen yang ada di sesuatu setelah in\n",
    "#for selesai jika elemen didalam data habis\n",
    "#aplikasi for dengan dict\n",
    "dict= {\n",
    "    'Nama' : 'Aya',\n",
    "    'Usia' : 21,\n",
    "    'Teman': ['joy','kai']\n",
    "} \n",
    "for j in dict:\n",
    "    print(j)\n",
    "\n",
    "for k in dict.values():\n",
    "    print(k)"
   ]
  },
  {
   "cell_type": "code",
   "execution_count": 4,
   "metadata": {},
   "outputs": [
    {
     "name": "stdout",
     "output_type": "stream",
     "text": [
      "e\n",
      "a\n",
      "e\n",
      "o\n",
      "e\n",
      "e\n",
      "o\n"
     ]
    }
   ],
   "source": [
    "#aplikasi for dengan string\n",
    "for l in 'weareoneexo':\n",
    "    if l in 'aiueo':\n",
    "        print(l)\n",
    "#yang di print elemen 'weareoneexo' yang termasuk 'aiueo'"
   ]
  },
  {
   "cell_type": "code",
   "execution_count": 13,
   "metadata": {},
   "outputs": [
    {
     "data": {
      "text/plain": [
       "range(0, 10)"
      ]
     },
     "execution_count": 13,
     "metadata": {},
     "output_type": "execute_result"
    }
   ],
   "source": [
    "#range untuk generate angka otomatis\n",
    "range(10) #1-9, 10 gaikut"
   ]
  },
  {
   "cell_type": "code",
   "execution_count": 16,
   "metadata": {},
   "outputs": [
    {
     "name": "stdout",
     "output_type": "stream",
     "text": [
      "s\n",
      "a\n",
      "y\n",
      "a\n",
      " \n",
      "m\n",
      "a\n"
     ]
    }
   ],
   "source": [
    "kata='saya manusia'\n",
    "for m in range(len(kata)):\n",
    "    print(kata[m])\n",
    "    if m==6:\n",
    "        break #(berenti)"
   ]
  },
  {
   "cell_type": "code",
   "execution_count": 14,
   "metadata": {},
   "outputs": [
    {
     "name": "stdout",
     "output_type": "stream",
     "text": [
      "s\n",
      "a\n",
      "y\n",
      "a\n",
      " \n",
      "m\n",
      "a\n",
      "n\n",
      "u\n",
      "s\n",
      "i\n",
      "a\n"
     ]
    }
   ],
   "source": [
    "indeks = 0\n",
    "while indeks < len(kata):\n",
    "    print(kata[indeks])\n",
    "    indeks += 1"
   ]
  },
  {
   "cell_type": "code",
   "execution_count": 21,
   "metadata": {},
   "outputs": [
    {
     "name": "stdout",
     "output_type": "stream",
     "text": [
      "a\n",
      "b\n",
      "b\n",
      "b\n",
      "a\n",
      "b\n",
      "b\n",
      "b\n",
      "a\n",
      "b\n",
      "b\n",
      "b\n",
      "a\n",
      "b\n",
      "b\n",
      "b\n",
      "a\n",
      "b\n",
      "b\n",
      "b\n",
      "a\n",
      "b\n",
      "b\n",
      "b\n",
      "a\n",
      "b\n",
      "b\n",
      "b\n",
      "a\n",
      "b\n",
      "b\n",
      "b\n",
      "a\n",
      "b\n",
      "b\n",
      "b\n",
      "a\n",
      "b\n",
      "b\n",
      "b\n",
      "a\n",
      "b\n",
      "b\n",
      "b\n",
      "a\n",
      "b\n",
      "b\n",
      "b\n",
      "a\n",
      "b\n",
      "b\n",
      "b\n"
     ]
    }
   ],
   "source": [
    "for a in range(13):\n",
    "    print('a')\n",
    "    for b in range(5):\n",
    "        print('b')\n",
    "        if b==2:\n",
    "            break"
   ]
  }
 ],
 "metadata": {
  "kernelspec": {
   "display_name": "Python 3",
   "language": "python",
   "name": "python3"
  },
  "language_info": {
   "codemirror_mode": {
    "name": "ipython",
    "version": 3
   },
   "file_extension": ".py",
   "mimetype": "text/x-python",
   "name": "python",
   "nbconvert_exporter": "python",
   "pygments_lexer": "ipython3",
   "version": "3.8.3"
  }
 },
 "nbformat": 4,
 "nbformat_minor": 4
}
