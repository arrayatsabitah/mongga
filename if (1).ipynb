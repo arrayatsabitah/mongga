{
 "cells": [
  {
   "cell_type": "code",
   "execution_count": 3,
   "metadata": {},
   "outputs": [
    {
     "name": "stdout",
     "output_type": "stream",
     "text": [
      "benar\n",
      "salah\n"
     ]
    }
   ],
   "source": [
    "#kondisi awal True\n",
    "#semua angka, huruf, true kecuali null\n",
    "if False:\n",
    "    print('salah')\n",
    "else:\n",
    "    print('benar')\n",
    "\n",
    "if 'a':\n",
    "    print('salah')\n",
    "else:\n",
    "    print('benar')"
   ]
  },
  {
   "cell_type": "code",
   "execution_count": 4,
   "metadata": {},
   "outputs": [
    {
     "name": "stdout",
     "output_type": "stream",
     "text": [
      "salah\n"
     ]
    }
   ],
   "source": [
    "if 3>2:\n",
    "    print('salah')\n",
    "elif 3>4:\n",
    "    print('bad')\n",
    "else:\n",
    "    print('benar')"
   ]
  },
  {
   "cell_type": "code",
   "execution_count": 5,
   "metadata": {},
   "outputs": [
    {
     "name": "stdout",
     "output_type": "stream",
     "text": [
      "B\n",
      "B\n"
     ]
    }
   ],
   "source": [
    "#short hand if\n",
    "a = 2\n",
    "b = 330\n",
    "print('A') if a > b else print('B')\n",
    "\n",
    "#setara dengan\n",
    "if a>b:\n",
    "    print('A')\n",
    "else:\n",
    "    print('B')"
   ]
  },
  {
   "cell_type": "code",
   "execution_count": 14,
   "metadata": {},
   "outputs": [
    {
     "name": "stdout",
     "output_type": "stream",
     "text": [
      "human\n"
     ]
    }
   ],
   "source": [
    "#and: dua2nya harus benar, maka dia benar\n",
    "#or: hanya satu yang harus benar, maka dia benar\n",
    "#nand kebalikan and\n",
    "#nor kebalikan or\n",
    "#xor harus beda, baru true\n",
    "#not mengubah true/false\n",
    "is_tall = False\n",
    "is_heavy = False\n",
    "\n",
    "if is_tall and is_heavy:\n",
    "    print('Big')\n",
    "elif is_tall and not(is_heavy):\n",
    "    print('Tall')\n",
    "elif not(is_tall) and is_heavy:\n",
    "    print('Small')\n",
    "elif not(is_tall) or is_heavy:\n",
    "    print('human')\n",
    "else:\n",
    "    print('random')"
   ]
  },
  {
   "cell_type": "code",
   "execution_count": 15,
   "metadata": {},
   "outputs": [
    {
     "name": "stdout",
     "output_type": "stream",
     "text": [
      "Big\n"
     ]
    }
   ],
   "source": [
    "is_tall = True\n",
    "is_heavy = True\n",
    "\n",
    "if is_tall and is_heavy:\n",
    "    print('Big')\n",
    "elif is_tall and not(is_heavy):\n",
    "    print('Tall')\n",
    "elif not(is_tall) and is_heavy:\n",
    "    print('Small')\n",
    "elif not(is_tall) or is_heavy:\n",
    "    print('human')\n",
    "else:\n",
    "    print('random')"
   ]
  },
  {
   "cell_type": "code",
   "execution_count": 16,
   "metadata": {},
   "outputs": [
    {
     "name": "stdout",
     "output_type": "stream",
     "text": [
      "Tall\n"
     ]
    }
   ],
   "source": [
    "is_tall = True\n",
    "is_heavy = False\n",
    "\n",
    "if is_tall and is_heavy:\n",
    "    print('Big')\n",
    "elif is_tall and not(is_heavy):\n",
    "    print('Tall')\n",
    "elif not(is_tall) and is_heavy:\n",
    "    print('Small')\n",
    "elif not(is_tall) or is_heavy:\n",
    "    print('human')\n",
    "else:\n",
    "    print('random')"
   ]
  },
  {
   "cell_type": "code",
   "execution_count": 18,
   "metadata": {},
   "outputs": [
    {
     "name": "stdout",
     "output_type": "stream",
     "text": [
      "Small\n"
     ]
    }
   ],
   "source": [
    "is_tall = False\n",
    "is_heavy = True\n",
    "\n",
    "if is_tall and is_heavy:\n",
    "    print('Big')\n",
    "elif is_tall and not(is_heavy):\n",
    "    print('Tall')\n",
    "elif not(is_tall) and is_heavy:\n",
    "    print('Small')\n",
    "elif not(is_tall) or is_heavy:\n",
    "    print('human')\n",
    "else:\n",
    "    print('random')"
   ]
  },
  {
   "cell_type": "code",
   "execution_count": 13,
   "metadata": {},
   "outputs": [
    {
     "name": "stdout",
     "output_type": "stream",
     "text": [
      "yes\n"
     ]
    }
   ],
   "source": [
    "a = 'aiueo'\n",
    "b = 'a'\n",
    "if b in a:\n",
    "    print('yes')"
   ]
  }
 ],
 "metadata": {
  "kernelspec": {
   "display_name": "Python 3",
   "language": "python",
   "name": "python3"
  },
  "language_info": {
   "codemirror_mode": {
    "name": "ipython",
    "version": 3
   },
   "file_extension": ".py",
   "mimetype": "text/x-python",
   "name": "python",
   "nbconvert_exporter": "python",
   "pygments_lexer": "ipython3",
   "version": "3.8.3"
  }
 },
 "nbformat": 4,
 "nbformat_minor": 4
}
