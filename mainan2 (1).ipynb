{
 "cells": [
  {
   "cell_type": "code",
   "execution_count": 1,
   "metadata": {},
   "outputs": [],
   "source": [
    "#word counter\n",
    "#diasumsikan tidak ada tanda baca, \n",
    "#hanya huruf dan spasi"
   ]
  },
  {
   "cell_type": "code",
   "execution_count": 8,
   "metadata": {},
   "outputs": [
    {
     "name": "stdin",
     "output_type": "stream",
     "text": [
      "Masukkan kalimat :\n",
      " ayah rebah ayah lapar\n"
     ]
    },
    {
     "name": "stdout",
     "output_type": "stream",
     "text": [
      "['ayah', 'rebah', 'ayah', 'lapar']\n",
      "{'ayah': 2, 'rebah': 1, 'lapar': 1}\n"
     ]
    }
   ],
   "source": [
    "#ingin membuat dict berisi jumlah kata dari kalimat input\n",
    "kalimat=input('Masukkan kalimat :\\n')\n",
    "jumlah_kata = {}\n",
    "\n",
    "kata_kata = kalimat.split(' ')\n",
    "#hasilnya 1 kata yg dipisah spasi jadi elemen dalam list\n",
    "print(kata_kata)\n",
    "\n",
    "for kata in kata_kata:\n",
    "    jumlah_kata[kata.lower()] = jumlah_kata.get(kata.lower(),0) + 1\n",
    "print(jumlah_kata)"
   ]
  },
  {
   "cell_type": "code",
   "execution_count": 10,
   "metadata": {},
   "outputs": [
    {
     "name": "stdout",
     "output_type": "stream",
     "text": [
      "ayah\n",
      "2\n"
     ]
    }
   ],
   "source": [
    "majority=str()\n",
    "jumlah=0\n",
    "\n",
    "for a in jumlah_kata.keys():\n",
    "    if jumlah_kata[a] > jumlah:\n",
    "        majority=a\n",
    "        jumlah=jumlah_kata[a]\n",
    "print(majority)\n",
    "print(jumlah)"
   ]
  }
 ],
 "metadata": {
  "kernelspec": {
   "display_name": "Python 3",
   "language": "python",
   "name": "python3"
  },
  "language_info": {
   "codemirror_mode": {
    "name": "ipython",
    "version": 3
   },
   "file_extension": ".py",
   "mimetype": "text/x-python",
   "name": "python",
   "nbconvert_exporter": "python",
   "pygments_lexer": "ipython3",
   "version": "3.8.3"
  }
 },
 "nbformat": 4,
 "nbformat_minor": 4
}
