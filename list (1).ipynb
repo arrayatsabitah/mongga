{
 "cells": [
  {
   "cell_type": "code",
   "execution_count": 3,
   "metadata": {},
   "outputs": [
    {
     "name": "stdout",
     "output_type": "stream",
     "text": [
      "sehun\n",
      "['kai', 88, 'sehun', 94]\n",
      "['kai', 88, 'baekhyun', 'kyungsoo']\n"
     ]
    }
   ],
   "source": [
    "a = ['kai',88,'sehun',94]\n",
    "b = ['1,2,3,4',5,6]\n",
    "c = list('sehun')\n",
    "print(a[2])\n",
    "print(a)\n",
    "#mengganti elemen\n",
    "a[2:4]=['baekhyun','kyungsoo']\n",
    "print(a)"
   ]
  },
  {
   "cell_type": "code",
   "execution_count": 4,
   "metadata": {},
   "outputs": [
    {
     "name": "stdout",
     "output_type": "stream",
     "text": [
      "['__add__', '__class__', '__contains__', '__delattr__', '__delitem__', '__dir__', '__doc__', '__eq__', '__format__', '__ge__', '__getattribute__', '__getitem__', '__gt__', '__hash__', '__iadd__', '__imul__', '__init__', '__init_subclass__', '__iter__', '__le__', '__len__', '__lt__', '__mul__', '__ne__', '__new__', '__reduce__', '__reduce_ex__', '__repr__', '__reversed__', '__rmul__', '__setattr__', '__setitem__', '__sizeof__', '__str__', '__subclasshook__', 'append', 'clear', 'copy', 'count', 'extend', 'index', 'insert', 'pop', 'remove', 'reverse', 'sort']\n"
     ]
    }
   ],
   "source": [
    "print(dir(list))"
   ]
  },
  {
   "cell_type": "code",
   "execution_count": 6,
   "metadata": {},
   "outputs": [
    {
     "name": "stdout",
     "output_type": "stream",
     "text": [
      "[1, 4, 9.6, 22, 27, 88, 94, 99]\n",
      "[99, 94, 88, 27, 22, 9.6, 4, 1]\n"
     ]
    }
   ],
   "source": [
    "#sort hanya untuk tipe data yang sama\n",
    "#tp kalo angka bisa mau int atau float\n",
    "d = [94,1,99,88,4,22,9.6,27]\n",
    "d.sort()\n",
    "print(d)\n",
    "d.sort(reverse=True) #mengurutkan dari terbesar\n",
    "print(d)"
   ]
  },
  {
   "cell_type": "code",
   "execution_count": 11,
   "metadata": {},
   "outputs": [
    {
     "name": "stdout",
     "output_type": "stream",
     "text": [
      "['1,2,3,4', 5, 6, 's', 'e', 'h', 'u', 'n']\n",
      "['1,2,3,4', 5, 6, ['s', 'e', 'h', 'u', 'n']]\n"
     ]
    }
   ],
   "source": [
    "#kalo mau nambah tp ga jadi satu elemen pake +\n",
    "print(b+c)\n",
    "#append untuk menambah diakhir list, dan yang ditambah menjadi satu elemen\n",
    "b.append(c)\n",
    "print(b)"
   ]
  },
  {
   "cell_type": "code",
   "execution_count": 12,
   "metadata": {},
   "outputs": [
    {
     "name": "stdout",
     "output_type": "stream",
     "text": [
      "[99, 94, 88, 27, 22, 9.6, 4, 1]\n",
      "[99, 94, 88, 27, 22, 9.6, 4]\n",
      "[99, 94, 27, 22, 9.6, 4]\n"
     ]
    }
   ],
   "source": [
    "#pop untuk menghapus elemen\n",
    "print(d)\n",
    "d.pop() #menghapus elemen terakhir\n",
    "print(d)\n",
    "d.pop(2) #menghapus elemen ke 3\n",
    "print(d)"
   ]
  },
  {
   "cell_type": "code",
   "execution_count": 16,
   "metadata": {},
   "outputs": [
    {
     "name": "stdout",
     "output_type": "stream",
     "text": [
      "[99, 94, 27, 100, 100, 22, 9.6, 4]\n"
     ]
    }
   ],
   "source": [
    "#insert untuk menambah elemen di suatu index\n",
    "d.insert(3,100)\n",
    "print(d)"
   ]
  },
  {
   "cell_type": "code",
   "execution_count": 18,
   "metadata": {},
   "outputs": [
    {
     "name": "stdout",
     "output_type": "stream",
     "text": [
      "[1, 2, 3, 4]\n",
      "[1, 2, 3]\n"
     ]
    }
   ],
   "source": [
    "#tidak boleh menggunakan = untuk 2 list\n",
    "list1=[1,2,3,4]\n",
    "list2=list1\n",
    "print(list2)\n",
    "list1.pop()\n",
    "print(list2)\n",
    "#padahal yang di pop list1, tp list2 ikut berubah karena terhubung"
   ]
  },
  {
   "cell_type": "code",
   "execution_count": 20,
   "metadata": {},
   "outputs": [
    {
     "name": "stdout",
     "output_type": "stream",
     "text": [
      "[1, 2, 3, 4]\n",
      "[1, 2, 3, 4]\n",
      "[1, 2, 3, 4]\n",
      "[1, 2, 3, 4]\n"
     ]
    }
   ],
   "source": [
    "#kalo mau bikin list yg isinya sama, bisa pake list(list1) atau list1.copy\n",
    "list1=[1,2,3,4]\n",
    "list2=list(list1)\n",
    "print(list2)\n",
    "list1.pop()\n",
    "print(list2)\n",
    "\n",
    "list1=[1,2,3,4]\n",
    "list2=list1.copy()\n",
    "print(list2)\n",
    "list1.pop()\n",
    "print(list2)"
   ]
  },
  {
   "cell_type": "code",
   "execution_count": 23,
   "metadata": {},
   "outputs": [
    {
     "name": "stdout",
     "output_type": "stream",
     "text": [
      "[1, 2, 3, 4, 'kai', 5, 4]\n"
     ]
    }
   ],
   "source": [
    "e=['kai',1,2,3,4,'kai',5,4]\n",
    "e.remove('kai') #hanya menghapus yg pertama\n",
    "print(e)"
   ]
  },
  {
   "cell_type": "code",
   "execution_count": 24,
   "metadata": {},
   "outputs": [],
   "source": [
    "del e[3] #menghapus elemen e yang ke 2\n",
    "del e #menghapus seluruh elemen e"
   ]
  },
  {
   "cell_type": "code",
   "execution_count": 25,
   "metadata": {},
   "outputs": [
    {
     "name": "stdout",
     "output_type": "stream",
     "text": [
      "2\n"
     ]
    }
   ],
   "source": [
    "f=['kai',1,2,3,4,'kai',5,4]\n",
    "print(f.count('kai'))\n"
   ]
  },
  {
   "cell_type": "code",
   "execution_count": 1,
   "metadata": {},
   "outputs": [
    {
     "ename": "SyntaxError",
     "evalue": "invalid syntax (<ipython-input-1-ad7c1456e7cf>, line 1)",
     "output_type": "error",
     "traceback": [
      "\u001b[1;36m  File \u001b[1;32m\"<ipython-input-1-ad7c1456e7cf>\"\u001b[1;36m, line \u001b[1;32m1\u001b[0m\n\u001b[1;33m    print([1:10])\u001b[0m\n\u001b[1;37m            ^\u001b[0m\n\u001b[1;31mSyntaxError\u001b[0m\u001b[1;31m:\u001b[0m invalid syntax\n"
     ]
    }
   ],
   "source": [
    "print([1:10])"
   ]
  }
 ],
 "metadata": {
  "kernelspec": {
   "display_name": "Python 3",
   "language": "python",
   "name": "python3"
  },
  "language_info": {
   "codemirror_mode": {
    "name": "ipython",
    "version": 3
   },
   "file_extension": ".py",
   "mimetype": "text/x-python",
   "name": "python",
   "nbconvert_exporter": "python",
   "pygments_lexer": "ipython3",
   "version": "3.8.3"
  }
 },
 "nbformat": 4,
 "nbformat_minor": 4
}
