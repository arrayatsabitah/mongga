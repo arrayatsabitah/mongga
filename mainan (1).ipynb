{
 "cells": [
  {
   "cell_type": "code",
   "execution_count": 4,
   "metadata": {},
   "outputs": [
    {
     "name": "stdin",
     "output_type": "stream",
     "text": [
      "Apa tebakannya? aya\n"
     ]
    },
    {
     "name": "stdout",
     "output_type": "stream",
     "text": [
      "Sisa tebakan2/3 nyawa\n"
     ]
    },
    {
     "name": "stdin",
     "output_type": "stream",
     "text": [
      "Apa tebakannya? Fuad\n"
     ]
    },
    {
     "name": "stdout",
     "output_type": "stream",
     "text": [
      "Kamu menang\n"
     ]
    }
   ],
   "source": [
    "#tebak kata\n",
    "kata='Fuad'\n",
    "OUT_OF_GUESS=False\n",
    "ANSWER_CORRECT=False\n",
    "max_guess = 3\n",
    "guess = 0\n",
    "\n",
    "while not(OUT_OF_GUESS) and not(ANSWER_CORRECT):\n",
    "    jawaban_orang=input('Apa tebakannya?')\n",
    "    if jawaban_orang==kata:\n",
    "        ANSWER_CORRECT=True\n",
    "        break\n",
    "    guess += 1\n",
    "    print('Sisa tebakan'+ str(max_guess-guess)+'/'+str(max_guess)+' nyawa')\n",
    "    if guess==max_guess:\n",
    "        OUT_OF_GUESS=True\n",
    "if(OUT_OF_GUESS):\n",
    "    print('Kamu kalah')\n",
    "else:\n",
    "    print('Kamu menang')"
   ]
  }
 ],
 "metadata": {
  "kernelspec": {
   "display_name": "Python 3",
   "language": "python",
   "name": "python3"
  },
  "language_info": {
   "codemirror_mode": {
    "name": "ipython",
    "version": 3
   },
   "file_extension": ".py",
   "mimetype": "text/x-python",
   "name": "python",
   "nbconvert_exporter": "python",
   "pygments_lexer": "ipython3",
   "version": "3.8.3"
  }
 },
 "nbformat": 4,
 "nbformat_minor": 4
}
