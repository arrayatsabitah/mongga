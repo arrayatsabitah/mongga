{
 "cells": [
  {
   "cell_type": "code",
   "execution_count": 1,
   "metadata": {},
   "outputs": [],
   "source": [
    "#dictionary lambangnya {}\n",
    "#kiri indeksnya, kanan isinya\n",
    "#dict kalo diubah jadi list, yang masuk cuma key nya aja"
   ]
  },
  {
   "cell_type": "code",
   "execution_count": 2,
   "metadata": {},
   "outputs": [],
   "source": [
    "x = ['aaa',1,3,'das'] #array"
   ]
  },
  {
   "cell_type": "code",
   "execution_count": 4,
   "metadata": {},
   "outputs": [
    {
     "name": "stdout",
     "output_type": "stream",
     "text": [
      "{'Nama': 'Aya', 'Usia': 21, 'Teman': ['joy', 'kai']}\n",
      "dict_keys(['Nama', 'Usia', 'Teman'])\n",
      "dict_items([('Nama', 'Aya'), ('Usia', 21), ('Teman', ['joy', 'kai'])])\n",
      "dict_values(['Aya', 21, ['joy', 'kai']])\n"
     ]
    }
   ],
   "source": [
    "dict= {\n",
    "    'Nama' : 'Aya',\n",
    "    'Usia' : 21,\n",
    "    'Teman': ['joy','kai']\n",
    "} \n",
    "#bisa ditulis dalam satu array juga\n",
    "print(dict)\n",
    "print(dict.keys()) #indeks yang disebut key\n",
    "print(dict.items()) #isi keseluruhan\n",
    "print(dict.values()) #nilai atau isinya"
   ]
  },
  {
   "cell_type": "code",
   "execution_count": 5,
   "metadata": {},
   "outputs": [
    {
     "name": "stdout",
     "output_type": "stream",
     "text": [
      "['__class__', '__contains__', '__delattr__', '__delitem__', '__dir__', '__doc__', '__eq__', '__format__', '__ge__', '__getattribute__', '__getitem__', '__gt__', '__hash__', '__init__', '__init_subclass__', '__iter__', '__le__', '__len__', '__lt__', '__ne__', '__new__', '__reduce__', '__reduce_ex__', '__repr__', '__reversed__', '__setattr__', '__setitem__', '__sizeof__', '__str__', '__subclasshook__', 'clear', 'copy', 'fromkeys', 'get', 'items', 'keys', 'pop', 'popitem', 'setdefault', 'update', 'values']\n"
     ]
    }
   ],
   "source": [
    "print(dir(dict))"
   ]
  },
  {
   "cell_type": "code",
   "execution_count": 6,
   "metadata": {},
   "outputs": [
    {
     "name": "stdout",
     "output_type": "stream",
     "text": [
      "Aya\n"
     ]
    }
   ],
   "source": [
    "#untuk akses elemen\n",
    "print(dict['Nama'])"
   ]
  },
  {
   "cell_type": "code",
   "execution_count": 10,
   "metadata": {},
   "outputs": [
    {
     "name": "stdout",
     "output_type": "stream",
     "text": [
      "0\n"
     ]
    }
   ],
   "source": [
    "#untuk akses elemen tapi bisa ngeset default value\n",
    "print(dict.get('kai',0)) \n",
    "#kalo gaada didalem dict, value defaultnya 0 (nunjukin gaada)"
   ]
  },
  {
   "cell_type": "code",
   "execution_count": 9,
   "metadata": {},
   "outputs": [
    {
     "name": "stdout",
     "output_type": "stream",
     "text": [
      "[1, 2, 3, 4, 5, 6]\n",
      "{'Nama': 'Aya', 'Usia': 21, 'Teman': ['joy', 'kai'], 'makanan kesukaan': 'sate'}\n"
     ]
    }
   ],
   "source": [
    "#perbedaan list dan dict dalam tambah elemen\n",
    "list = [1,2,3,4,5]\n",
    "#list[5]=6 gabakal bisa karena udah di set ukurannya\n",
    "#harus pake append\n",
    "list.append(6)\n",
    "print(list)\n",
    "\n",
    "#kalo dict\n",
    "dict['makanan kesukaan']='sate'\n",
    "print(dict)"
   ]
  }
 ],
 "metadata": {
  "kernelspec": {
   "display_name": "Python 3",
   "language": "python",
   "name": "python3"
  },
  "language_info": {
   "codemirror_mode": {
    "name": "ipython",
    "version": 3
   },
   "file_extension": ".py",
   "mimetype": "text/x-python",
   "name": "python",
   "nbconvert_exporter": "python",
   "pygments_lexer": "ipython3",
   "version": "3.8.3"
  }
 },
 "nbformat": 4,
 "nbformat_minor": 4
}
