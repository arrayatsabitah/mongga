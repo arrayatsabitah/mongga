{
 "cells": [
  {
   "cell_type": "code",
   "execution_count": 1,
   "metadata": {},
   "outputs": [],
   "source": [
    "def luaslingkaran(r):\n",
    "    luas=3.14*r*r\n",
    "    return luas #return tu biar bisa dipake diluar, ngubah var lokal jd global"
   ]
  },
  {
   "cell_type": "code",
   "execution_count": 2,
   "metadata": {},
   "outputs": [
    {
     "data": {
      "text/plain": [
       "153.86"
      ]
     },
     "execution_count": 2,
     "metadata": {},
     "output_type": "execute_result"
    }
   ],
   "source": [
    "luaslingkaran(7) #hasilnya ga bakal keluar, kek cuma manggil variabel"
   ]
  },
  {
   "cell_type": "code",
   "execution_count": 3,
   "metadata": {},
   "outputs": [
    {
     "name": "stdout",
     "output_type": "stream",
     "text": [
      "153.86\n"
     ]
    }
   ],
   "source": [
    "print(luaslingkaran(7))"
   ]
  },
  {
   "cell_type": "code",
   "execution_count": 5,
   "metadata": {},
   "outputs": [
    {
     "name": "stdout",
     "output_type": "stream",
     "text": [
      "43.96\n"
     ]
    }
   ],
   "source": [
    "keliling=2*(luaslingkaran(7)/7)\n",
    "print(keliling)"
   ]
  },
  {
   "cell_type": "code",
   "execution_count": 6,
   "metadata": {},
   "outputs": [],
   "source": [
    "def inputdata():\n",
    "    x = int(input('masukkan angka: '))\n",
    "    return x\n",
    "\n",
    "def kalkulasi(x):\n",
    "    y=[0,0,0]\n",
    "    y[1]=x+2\n",
    "    y[2]=3*x+1\n",
    "    y[0]=x**2+2*x+1\n",
    "    print(y)\n",
    "    return y\n",
    "\n",
    "def printdata(asal):\n",
    "    for f in asal:\n",
    "        print(f)"
   ]
  },
  {
   "cell_type": "code",
   "execution_count": 7,
   "metadata": {},
   "outputs": [
    {
     "name": "stdin",
     "output_type": "stream",
     "text": [
      "masukkan angka:  9\n"
     ]
    },
    {
     "name": "stdout",
     "output_type": "stream",
     "text": [
      "[100, 11, 28]\n",
      "100\n",
      "11\n",
      "28\n"
     ]
    }
   ],
   "source": [
    "printdata(kalkulasi(inputdata()))"
   ]
  },
  {
   "cell_type": "code",
   "execution_count": 8,
   "metadata": {},
   "outputs": [],
   "source": [
    "#rekursif tu bisa ngeloop ditengah proses fngsi dgn memanggil fungsi tsb tanpa mengganggu proses keseluruhan fungsi tsb."
   ]
  },
  {
   "cell_type": "code",
   "execution_count": 9,
   "metadata": {},
   "outputs": [
    {
     "name": "stdout",
     "output_type": "stream",
     "text": [
      "0\n",
      "0\n",
      "1\n",
      "-1\n",
      "2\n",
      "-2\n",
      "3\n",
      "-3\n",
      "4\n",
      "-4\n",
      "5\n",
      "-5\n",
      "6\n",
      "-6\n",
      "7\n",
      "-7\n",
      "8\n",
      "-8\n",
      "9\n",
      "-9\n"
     ]
    }
   ],
   "source": [
    "#iterator\n",
    "for f in range(10):\n",
    "    print(f)\n",
    "    print(-f)"
   ]
  },
  {
   "cell_type": "code",
   "execution_count": 10,
   "metadata": {},
   "outputs": [],
   "source": [
    "def rumah(x):\n",
    "    x=x+1\n",
    "    if x<3:\n",
    "        rumah(x)\n",
    "    x=x+2\n",
    "    print(x)"
   ]
  },
  {
   "cell_type": "code",
   "execution_count": 11,
   "metadata": {},
   "outputs": [
    {
     "name": "stdout",
     "output_type": "stream",
     "text": [
      "5\n",
      "4\n"
     ]
    }
   ],
   "source": [
    "rumah(1)"
   ]
  }
 ],
 "metadata": {
  "kernelspec": {
   "display_name": "Python 3",
   "language": "python",
   "name": "python3"
  },
  "language_info": {
   "codemirror_mode": {
    "name": "ipython",
    "version": 3
   },
   "file_extension": ".py",
   "mimetype": "text/x-python",
   "name": "python",
   "nbconvert_exporter": "python",
   "pygments_lexer": "ipython3",
   "version": "3.8.3"
  }
 },
 "nbformat": 4,
 "nbformat_minor": 4
}
